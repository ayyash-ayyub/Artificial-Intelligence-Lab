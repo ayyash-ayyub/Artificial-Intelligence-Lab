{
  "cells": [
    {
      "cell_type": "code",
      "execution_count": null,
      "id": "d65d129d",
      "metadata": {
        "id": "d65d129d"
      },
      "outputs": [],
      "source": [
        "#Import Library\n",
        "import numpy as np\n",
        "import pandas as pd\n",
        "import matplotlib.pyplot as plt\n",
        "import seaborn as sns\n",
        "from sklearn.model_selection import train_test_split\n",
        "from sklearn.ensemble import RandomForestRegressor\n",
        "from sklearn import metrics\n",
        "import pickle"
      ]
    },
    {
      "cell_type": "markdown",
      "id": "a0b1039a",
      "metadata": {
        "id": "a0b1039a"
      },
      "source": [
        "Data Collection and Processing"
      ]
    },
    {
      "cell_type": "code",
      "execution_count": null,
      "id": "c6358502",
      "metadata": {
        "id": "c6358502"
      },
      "outputs": [],
      "source": [
        "# loading the csv data to a Pandas DataFrame\n",
        "gold_data = pd.read_csv('Gold_Yearly.csv')"
      ]
    },
    {
      "cell_type": "code",
      "execution_count": null,
      "id": "9fb2912c",
      "metadata": {
        "id": "9fb2912c",
        "outputId": "176dffd7-95a9-4b19-bbb4-bf5925599d6c"
      },
      "outputs": [
        {
          "data": {
            "text/html": [
              "<div>\n",
              "<style scoped>\n",
              "    .dataframe tbody tr th:only-of-type {\n",
              "        vertical-align: middle;\n",
              "    }\n",
              "\n",
              "    .dataframe tbody tr th {\n",
              "        vertical-align: top;\n",
              "    }\n",
              "\n",
              "    .dataframe thead th {\n",
              "        text-align: right;\n",
              "    }\n",
              "</style>\n",
              "<table border=\"1\" class=\"dataframe\">\n",
              "  <thead>\n",
              "    <tr style=\"text-align: right;\">\n",
              "      <th></th>\n",
              "      <th>Year</th>\n",
              "      <th>Average\\nClosing Price</th>\n",
              "      <th>Year Open</th>\n",
              "      <th>Year High</th>\n",
              "      <th>Year Low</th>\n",
              "      <th>Year Close</th>\n",
              "      <th>Annual\\n% Change</th>\n",
              "    </tr>\n",
              "  </thead>\n",
              "  <tbody>\n",
              "    <tr>\n",
              "      <th>0</th>\n",
              "      <td>1969</td>\n",
              "      <td>41.10</td>\n",
              "      <td>41.80</td>\n",
              "      <td>43.75</td>\n",
              "      <td>35.00</td>\n",
              "      <td>35.21</td>\n",
              "      <td>-0.1607</td>\n",
              "    </tr>\n",
              "    <tr>\n",
              "      <th>1</th>\n",
              "      <td>1970</td>\n",
              "      <td>35.96</td>\n",
              "      <td>35.13</td>\n",
              "      <td>39.19</td>\n",
              "      <td>34.78</td>\n",
              "      <td>37.38</td>\n",
              "      <td>0.0616</td>\n",
              "    </tr>\n",
              "    <tr>\n",
              "      <th>2</th>\n",
              "      <td>1971</td>\n",
              "      <td>40.80</td>\n",
              "      <td>37.33</td>\n",
              "      <td>43.90</td>\n",
              "      <td>37.33</td>\n",
              "      <td>43.50</td>\n",
              "      <td>0.1637</td>\n",
              "    </tr>\n",
              "    <tr>\n",
              "      <th>3</th>\n",
              "      <td>1972</td>\n",
              "      <td>58.17</td>\n",
              "      <td>43.73</td>\n",
              "      <td>70.00</td>\n",
              "      <td>43.73</td>\n",
              "      <td>64.70</td>\n",
              "      <td>0.4874</td>\n",
              "    </tr>\n",
              "    <tr>\n",
              "      <th>4</th>\n",
              "      <td>1973</td>\n",
              "      <td>97.12</td>\n",
              "      <td>64.99</td>\n",
              "      <td>127.00</td>\n",
              "      <td>64.10</td>\n",
              "      <td>112.25</td>\n",
              "      <td>0.7349</td>\n",
              "    </tr>\n",
              "  </tbody>\n",
              "</table>\n",
              "</div>"
            ],
            "text/plain": [
              "   Year  Average\\nClosing Price  Year Open  Year High  Year Low  Year Close  \\\n",
              "0  1969                   41.10      41.80      43.75     35.00       35.21   \n",
              "1  1970                   35.96      35.13      39.19     34.78       37.38   \n",
              "2  1971                   40.80      37.33      43.90     37.33       43.50   \n",
              "3  1972                   58.17      43.73      70.00     43.73       64.70   \n",
              "4  1973                   97.12      64.99     127.00     64.10      112.25   \n",
              "\n",
              "   Annual\\n% Change  \n",
              "0           -0.1607  \n",
              "1            0.0616  \n",
              "2            0.1637  \n",
              "3            0.4874  \n",
              "4            0.7349  "
            ]
          },
          "execution_count": 3,
          "metadata": {},
          "output_type": "execute_result"
        }
      ],
      "source": [
        "# print first 5 rows in the dataframe\n",
        "gold_data.head()"
      ]
    },
    {
      "cell_type": "markdown",
      "id": "14766524",
      "metadata": {
        "id": "14766524"
      },
      "source": [
        "#Harga tertera adalah untuk 1 troy ons emas berjangka, 1 troy ons setara dengan 31,1 gram\n"
      ]
    },
    {
      "cell_type": "code",
      "execution_count": null,
      "id": "662c3b51",
      "metadata": {
        "scrolled": true,
        "id": "662c3b51",
        "outputId": "8b49686e-8b63-4a38-8c0a-db8fdcfb5b98"
      },
      "outputs": [
        {
          "data": {
            "text/html": [
              "<div>\n",
              "<style scoped>\n",
              "    .dataframe tbody tr th:only-of-type {\n",
              "        vertical-align: middle;\n",
              "    }\n",
              "\n",
              "    .dataframe tbody tr th {\n",
              "        vertical-align: top;\n",
              "    }\n",
              "\n",
              "    .dataframe thead th {\n",
              "        text-align: right;\n",
              "    }\n",
              "</style>\n",
              "<table border=\"1\" class=\"dataframe\">\n",
              "  <thead>\n",
              "    <tr style=\"text-align: right;\">\n",
              "      <th></th>\n",
              "      <th>Year</th>\n",
              "      <th>Average\\nClosing Price</th>\n",
              "      <th>Year Open</th>\n",
              "      <th>Year High</th>\n",
              "      <th>Year Low</th>\n",
              "      <th>Year Close</th>\n",
              "      <th>Annual\\n% Change</th>\n",
              "    </tr>\n",
              "  </thead>\n",
              "  <tbody>\n",
              "    <tr>\n",
              "      <th>48</th>\n",
              "      <td>2017</td>\n",
              "      <td>1260.39</td>\n",
              "      <td>1162.00</td>\n",
              "      <td>1351.20</td>\n",
              "      <td>1162.00</td>\n",
              "      <td>1296.50</td>\n",
              "      <td>0.1257</td>\n",
              "    </tr>\n",
              "    <tr>\n",
              "      <th>49</th>\n",
              "      <td>2018</td>\n",
              "      <td>1268.93</td>\n",
              "      <td>1312.80</td>\n",
              "      <td>1360.25</td>\n",
              "      <td>1176.70</td>\n",
              "      <td>1281.65</td>\n",
              "      <td>-0.0115</td>\n",
              "    </tr>\n",
              "    <tr>\n",
              "      <th>50</th>\n",
              "      <td>2019</td>\n",
              "      <td>1393.34</td>\n",
              "      <td>1287.20</td>\n",
              "      <td>1542.60</td>\n",
              "      <td>1270.05</td>\n",
              "      <td>1523.00</td>\n",
              "      <td>0.1883</td>\n",
              "    </tr>\n",
              "    <tr>\n",
              "      <th>51</th>\n",
              "      <td>2020</td>\n",
              "      <td>1773.73</td>\n",
              "      <td>1520.55</td>\n",
              "      <td>2058.40</td>\n",
              "      <td>1472.35</td>\n",
              "      <td>1895.10</td>\n",
              "      <td>0.2443</td>\n",
              "    </tr>\n",
              "    <tr>\n",
              "      <th>52</th>\n",
              "      <td>2021</td>\n",
              "      <td>1799.10</td>\n",
              "      <td>1946.60</td>\n",
              "      <td>1954.40</td>\n",
              "      <td>1678.00</td>\n",
              "      <td>1783.90</td>\n",
              "      <td>-0.0587</td>\n",
              "    </tr>\n",
              "  </tbody>\n",
              "</table>\n",
              "</div>"
            ],
            "text/plain": [
              "    Year  Average\\nClosing Price  Year Open  Year High  Year Low  Year Close  \\\n",
              "48  2017                 1260.39    1162.00    1351.20   1162.00     1296.50   \n",
              "49  2018                 1268.93    1312.80    1360.25   1176.70     1281.65   \n",
              "50  2019                 1393.34    1287.20    1542.60   1270.05     1523.00   \n",
              "51  2020                 1773.73    1520.55    2058.40   1472.35     1895.10   \n",
              "52  2021                 1799.10    1946.60    1954.40   1678.00     1783.90   \n",
              "\n",
              "    Annual\\n% Change  \n",
              "48            0.1257  \n",
              "49           -0.0115  \n",
              "50            0.1883  \n",
              "51            0.2443  \n",
              "52           -0.0587  "
            ]
          },
          "execution_count": 4,
          "metadata": {},
          "output_type": "execute_result"
        }
      ],
      "source": [
        "# print last 5 rows of the dataframe\n",
        "gold_data.tail()"
      ]
    },
    {
      "cell_type": "code",
      "execution_count": null,
      "id": "f6157ba3",
      "metadata": {
        "id": "f6157ba3",
        "outputId": "b623ae0d-3460-4794-9675-f55fa2189ee6"
      },
      "outputs": [
        {
          "data": {
            "text/plain": [
              "(53, 7)"
            ]
          },
          "execution_count": 5,
          "metadata": {},
          "output_type": "execute_result"
        }
      ],
      "source": [
        "# number of rows and columns\n",
        "gold_data.shape"
      ]
    },
    {
      "cell_type": "code",
      "execution_count": null,
      "id": "bc424f0b",
      "metadata": {
        "id": "bc424f0b",
        "outputId": "9997c6ee-77dd-4408-ccf4-4ee1e2c50e3a"
      },
      "outputs": [
        {
          "name": "stdout",
          "output_type": "stream",
          "text": [
            "<class 'pandas.core.frame.DataFrame'>\n",
            "RangeIndex: 53 entries, 0 to 52\n",
            "Data columns (total 7 columns):\n",
            " #   Column                 Non-Null Count  Dtype  \n",
            "---  ------                 --------------  -----  \n",
            " 0   Year                   53 non-null     int64  \n",
            " 1   Average\n",
            "Closing Price  53 non-null     float64\n",
            " 2   Year Open              53 non-null     float64\n",
            " 3   Year High              53 non-null     float64\n",
            " 4   Year Low               53 non-null     float64\n",
            " 5   Year Close             53 non-null     float64\n",
            " 6   Annual\n",
            "% Change        53 non-null     float64\n",
            "dtypes: float64(6), int64(1)\n",
            "memory usage: 3.0 KB\n"
          ]
        }
      ],
      "source": [
        "# getting some basic informations about the data\n",
        "gold_data.info()"
      ]
    },
    {
      "cell_type": "code",
      "execution_count": null,
      "id": "c6e89b96",
      "metadata": {
        "id": "c6e89b96",
        "outputId": "8c45cb46-fd3b-436d-86c0-14f3d8ca6c27"
      },
      "outputs": [
        {
          "data": {
            "text/plain": [
              "Year                      0\n",
              "Average\\nClosing Price    0\n",
              "Year Open                 0\n",
              "Year High                 0\n",
              "Year Low                  0\n",
              "Year Close                0\n",
              "Annual\\n% Change          0\n",
              "dtype: int64"
            ]
          },
          "execution_count": 7,
          "metadata": {},
          "output_type": "execute_result"
        }
      ],
      "source": [
        "# checking the number of missing values\n",
        "gold_data.isnull().sum()"
      ]
    },
    {
      "cell_type": "code",
      "execution_count": null,
      "id": "3326ef38",
      "metadata": {
        "id": "3326ef38",
        "outputId": "0e9e20f0-d307-4b6b-a8e6-3a3e45dfe880"
      },
      "outputs": [
        {
          "data": {
            "text/html": [
              "<div>\n",
              "<style scoped>\n",
              "    .dataframe tbody tr th:only-of-type {\n",
              "        vertical-align: middle;\n",
              "    }\n",
              "\n",
              "    .dataframe tbody tr th {\n",
              "        vertical-align: top;\n",
              "    }\n",
              "\n",
              "    .dataframe thead th {\n",
              "        text-align: right;\n",
              "    }\n",
              "</style>\n",
              "<table border=\"1\" class=\"dataframe\">\n",
              "  <thead>\n",
              "    <tr style=\"text-align: right;\">\n",
              "      <th></th>\n",
              "      <th>Year</th>\n",
              "      <th>Average\\nClosing Price</th>\n",
              "      <th>Year Open</th>\n",
              "      <th>Year High</th>\n",
              "      <th>Year Low</th>\n",
              "      <th>Year Close</th>\n",
              "      <th>Annual\\n% Change</th>\n",
              "    </tr>\n",
              "  </thead>\n",
              "  <tbody>\n",
              "    <tr>\n",
              "      <th>count</th>\n",
              "      <td>53.000000</td>\n",
              "      <td>53.000000</td>\n",
              "      <td>53.000000</td>\n",
              "      <td>53.000000</td>\n",
              "      <td>53.000000</td>\n",
              "      <td>53.000000</td>\n",
              "      <td>53.000000</td>\n",
              "    </tr>\n",
              "    <tr>\n",
              "      <th>mean</th>\n",
              "      <td>1995.000000</td>\n",
              "      <td>591.265094</td>\n",
              "      <td>575.181698</td>\n",
              "      <td>677.918679</td>\n",
              "      <td>520.668679</td>\n",
              "      <td>604.341321</td>\n",
              "      <td>0.100798</td>\n",
              "    </tr>\n",
              "    <tr>\n",
              "      <th>std</th>\n",
              "      <td>15.443445</td>\n",
              "      <td>497.289713</td>\n",
              "      <td>483.980198</td>\n",
              "      <td>560.304150</td>\n",
              "      <td>440.807918</td>\n",
              "      <td>500.820725</td>\n",
              "      <td>0.272544</td>\n",
              "    </tr>\n",
              "    <tr>\n",
              "      <th>min</th>\n",
              "      <td>1969.000000</td>\n",
              "      <td>35.960000</td>\n",
              "      <td>35.130000</td>\n",
              "      <td>39.190000</td>\n",
              "      <td>34.780000</td>\n",
              "      <td>35.210000</td>\n",
              "      <td>-0.321500</td>\n",
              "    </tr>\n",
              "    <tr>\n",
              "      <th>25%</th>\n",
              "      <td>1982.000000</td>\n",
              "      <td>294.120000</td>\n",
              "      <td>282.050000</td>\n",
              "      <td>326.250000</td>\n",
              "      <td>263.800000</td>\n",
              "      <td>289.200000</td>\n",
              "      <td>-0.044300</td>\n",
              "    </tr>\n",
              "    <tr>\n",
              "      <th>50%</th>\n",
              "      <td>1995.000000</td>\n",
              "      <td>383.730000</td>\n",
              "      <td>395.000000</td>\n",
              "      <td>421.400000</td>\n",
              "      <td>358.100000</td>\n",
              "      <td>391.000000</td>\n",
              "      <td>0.056800</td>\n",
              "    </tr>\n",
              "    <tr>\n",
              "      <th>75%</th>\n",
              "      <td>2008.000000</td>\n",
              "      <td>872.370000</td>\n",
              "      <td>840.750000</td>\n",
              "      <td>1023.500000</td>\n",
              "      <td>692.500000</td>\n",
              "      <td>865.000000</td>\n",
              "      <td>0.217400</td>\n",
              "    </tr>\n",
              "    <tr>\n",
              "      <th>max</th>\n",
              "      <td>2021.000000</td>\n",
              "      <td>1799.100000</td>\n",
              "      <td>1946.600000</td>\n",
              "      <td>2058.400000</td>\n",
              "      <td>1678.000000</td>\n",
              "      <td>1895.100000</td>\n",
              "      <td>1.334100</td>\n",
              "    </tr>\n",
              "  </tbody>\n",
              "</table>\n",
              "</div>"
            ],
            "text/plain": [
              "              Year  Average\\nClosing Price    Year Open    Year High  \\\n",
              "count    53.000000               53.000000    53.000000    53.000000   \n",
              "mean   1995.000000              591.265094   575.181698   677.918679   \n",
              "std      15.443445              497.289713   483.980198   560.304150   \n",
              "min    1969.000000               35.960000    35.130000    39.190000   \n",
              "25%    1982.000000              294.120000   282.050000   326.250000   \n",
              "50%    1995.000000              383.730000   395.000000   421.400000   \n",
              "75%    2008.000000              872.370000   840.750000  1023.500000   \n",
              "max    2021.000000             1799.100000  1946.600000  2058.400000   \n",
              "\n",
              "          Year Low   Year Close  Annual\\n% Change  \n",
              "count    53.000000    53.000000         53.000000  \n",
              "mean    520.668679   604.341321          0.100798  \n",
              "std     440.807918   500.820725          0.272544  \n",
              "min      34.780000    35.210000         -0.321500  \n",
              "25%     263.800000   289.200000         -0.044300  \n",
              "50%     358.100000   391.000000          0.056800  \n",
              "75%     692.500000   865.000000          0.217400  \n",
              "max    1678.000000  1895.100000          1.334100  "
            ]
          },
          "execution_count": 8,
          "metadata": {},
          "output_type": "execute_result"
        }
      ],
      "source": [
        "# getting the statistical measures of the data\n",
        "gold_data.describe()"
      ]
    },
    {
      "cell_type": "markdown",
      "id": "a8bb3005",
      "metadata": {
        "id": "a8bb3005"
      },
      "source": [
        "Correlation:\n",
        "\n",
        "Positive Correlation\n",
        "Negative Correlation"
      ]
    },
    {
      "cell_type": "code",
      "execution_count": null,
      "id": "fc2255c4",
      "metadata": {
        "id": "fc2255c4"
      },
      "outputs": [],
      "source": [
        "correlation = gold_data.corr()"
      ]
    },
    {
      "cell_type": "code",
      "execution_count": null,
      "id": "3a9fa671",
      "metadata": {
        "id": "3a9fa671",
        "outputId": "2d9cc12b-e7ba-4d4a-a965-fbb0db01ea53"
      },
      "outputs": [
        {
          "data": {
            "text/plain": [
              "<AxesSubplot:>"
            ]
          },
          "execution_count": 10,
          "metadata": {},
          "output_type": "execute_result"
        },
        {
          "data": {
            "image/png": "[encoded data removed]",
            "text/plain": [
              "<Figure size 576x576 with 2 Axes>"
            ]
          },
          "metadata": {
            "needs_background": "light"
          },
          "output_type": "display_data"
        }
      ],
      "source": [
        "# constructing a heatmap to understand the correlatiom\n",
        "plt.figure(figsize = (8,8))\n",
        "sns.heatmap(correlation, cbar=True, square=True, fmt='.1f',annot=True, annot_kws={'size':8}, cmap='Blues')"
      ]
    },
    {
      "cell_type": "code",
      "execution_count": null,
      "id": "8f3fc387",
      "metadata": {
        "id": "8f3fc387",
        "outputId": "d0cc8768-0f6f-4379-e639-b22998d74a70"
      },
      "outputs": [
        {
          "name": "stdout",
          "output_type": "stream",
          "text": [
            "Year                      0.838515\n",
            "Average\\nClosing Price    1.000000\n",
            "Year Open                 0.987634\n",
            "Year High                 0.995449\n",
            "Year Low                  0.996797\n",
            "Year Close                0.990643\n",
            "Annual\\n% Change         -0.110603\n",
            "Name: Average\\nClosing Price, dtype: float64\n"
          ]
        }
      ],
      "source": [
        "# correlation values of GLD\n",
        "print(correlation['Average\\nClosing Price'])"
      ]
    },
    {
      "cell_type": "code",
      "execution_count": null,
      "id": "9463e7ff",
      "metadata": {
        "id": "9463e7ff",
        "outputId": "00e19b2d-1f7b-4406-93c4-00682b80d901"
      },
      "outputs": [
        {
          "name": "stderr",
          "output_type": "stream",
          "text": [
            "C:\\Users\\ayyash\\anaconda3\\lib\\site-packages\\seaborn\\distributions.py:2619: FutureWarning: `distplot` is a deprecated function and will be removed in a future version. Please adapt your code to use either `displot` (a figure-level function with similar flexibility) or `histplot` (an axes-level function for histograms).\n",
            "  warnings.warn(msg, FutureWarning)\n"
          ]
        },
        {
          "data": {
            "text/plain": [
              "<AxesSubplot:xlabel='Average\\nClosing Price', ylabel='Density'>"
            ]
          },
          "execution_count": 12,
          "metadata": {},
          "output_type": "execute_result"
        },
        {
          "data": {
            "image/png": "[encoded data removed]",
            "text/plain": [
              "<Figure size 432x288 with 1 Axes>"
            ]
          },
          "metadata": {
            "needs_background": "light"
          },
          "output_type": "display_data"
        }
      ],
      "source": [
        "# checking the distribution of the GLD Price\n",
        "sns.distplot(gold_data['Average\\nClosing Price'],color='green')"
      ]
    },
    {
      "cell_type": "markdown",
      "id": "ff175683",
      "metadata": {
        "id": "ff175683"
      },
      "source": [
        "Splitting the Features and Target"
      ]
    },
    {
      "cell_type": "code",
      "execution_count": null,
      "id": "b587258e",
      "metadata": {
        "id": "b587258e"
      },
      "outputs": [],
      "source": [
        "X = gold_data.drop(['Year Open','Year High', 'Year Low','Year Close','Annual\\n% Change','Average\\nClosing Price'],axis=1)\n",
        "Y = gold_data['Average\\nClosing Price']"
      ]
    },
    {
      "cell_type": "code",
      "execution_count": null,
      "id": "e5a218e5",
      "metadata": {
        "id": "e5a218e5",
        "outputId": "dc3dfdff-bc0b-4922-8fc6-03bf54303c06"
      },
      "outputs": [
        {
          "name": "stdout",
          "output_type": "stream",
          "text": [
            "    Year\n",
            "0   1969\n",
            "1   1970\n",
            "2   1971\n",
            "3   1972\n",
            "4   1973\n",
            "5   1974\n",
            "6   1975\n",
            "7   1976\n",
            "8   1977\n",
            "9   1978\n",
            "10  1979\n",
            "11  1980\n",
            "12  1981\n",
            "13  1982\n",
            "14  1983\n",
            "15  1984\n",
            "16  1985\n",
            "17  1986\n",
            "18  1987\n",
            "19  1988\n",
            "20  1989\n",
            "21  1990\n",
            "22  1991\n",
            "23  1992\n",
            "24  1993\n",
            "25  1994\n",
            "26  1995\n",
            "27  1996\n",
            "28  1997\n",
            "29  1998\n",
            "30  1999\n",
            "31  2000\n",
            "32  2001\n",
            "33  2002\n",
            "34  2003\n",
            "35  2004\n",
            "36  2005\n",
            "37  2006\n",
            "38  2007\n",
            "39  2008\n",
            "40  2009\n",
            "41  2010\n",
            "42  2011\n",
            "43  2012\n",
            "44  2013\n",
            "45  2014\n",
            "46  2015\n",
            "47  2016\n",
            "48  2017\n",
            "49  2018\n",
            "50  2019\n",
            "51  2020\n",
            "52  2021\n"
          ]
        }
      ],
      "source": [
        "print(X)"
      ]
    },
    {
      "cell_type": "code",
      "execution_count": null,
      "id": "7a5a8534",
      "metadata": {
        "id": "7a5a8534",
        "outputId": "ea375a59-1a7e-4aaa-b7ed-42b07328f9c0"
      },
      "outputs": [
        {
          "name": "stdout",
          "output_type": "stream",
          "text": [
            "0       41.10\n",
            "1       35.96\n",
            "2       40.80\n",
            "3       58.17\n",
            "4       97.12\n",
            "5      158.76\n",
            "6      160.87\n",
            "7      124.80\n",
            "8      147.84\n",
            "9      193.57\n",
            "10     307.01\n",
            "11     614.75\n",
            "12     459.16\n",
            "13     376.11\n",
            "14     423.71\n",
            "15     360.65\n",
            "16     317.42\n",
            "17     368.20\n",
            "18     446.84\n",
            "19     436.78\n",
            "20     381.27\n",
            "21     383.73\n",
            "22     362.34\n",
            "23     343.87\n",
            "24     360.05\n",
            "25     384.16\n",
            "26     384.07\n",
            "27     387.73\n",
            "28     331.00\n",
            "29     294.12\n",
            "30     278.86\n",
            "31     279.29\n",
            "32     271.19\n",
            "33     310.08\n",
            "34     363.83\n",
            "35     409.53\n",
            "36     444.99\n",
            "37     604.34\n",
            "38     696.43\n",
            "39     872.37\n",
            "40     973.66\n",
            "41    1226.66\n",
            "42    1573.16\n",
            "43    1668.86\n",
            "44    1409.51\n",
            "45    1266.06\n",
            "46    1158.86\n",
            "47    1251.92\n",
            "48    1260.39\n",
            "49    1268.93\n",
            "50    1393.34\n",
            "51    1773.73\n",
            "52    1799.10\n",
            "Name: Average\\nClosing Price, dtype: float64\n"
          ]
        }
      ],
      "source": [
        "print(Y)"
      ]
    },
    {
      "cell_type": "markdown",
      "id": "6d18a024",
      "metadata": {
        "id": "6d18a024"
      },
      "source": [
        "Splitting into Training data and Test Data"
      ]
    },
    {
      "cell_type": "code",
      "execution_count": null,
      "id": "99050922",
      "metadata": {
        "id": "99050922"
      },
      "outputs": [],
      "source": [
        "X_train, X_test, Y_train, Y_test = train_test_split(X, Y, test_size = 0.2, random_state=2)"
      ]
    },
    {
      "cell_type": "markdown",
      "id": "5a5ddac6",
      "metadata": {
        "id": "5a5ddac6"
      },
      "source": [
        "Model Training: Random Forest Regressor"
      ]
    },
    {
      "cell_type": "code",
      "execution_count": null,
      "id": "9710bd2c",
      "metadata": {
        "id": "9710bd2c"
      },
      "outputs": [],
      "source": [
        "regressor = RandomForestRegressor(n_estimators=100)"
      ]
    },
    {
      "cell_type": "code",
      "execution_count": null,
      "id": "13042b73",
      "metadata": {
        "id": "13042b73",
        "outputId": "869e007e-8006-4112-81bc-06e097d51a93"
      },
      "outputs": [
        {
          "data": {
            "text/html": [
              "<style>#sk-container-id-1 {color: black;background-color: white;}#sk-container-id-1 pre{padding: 0;}#sk-container-id-1 div.sk-toggleable {background-color: white;}#sk-container-id-1 label.sk-toggleable__label {cursor: pointer;display: block;width: 100%;margin-bottom: 0;padding: 0.3em;box-sizing: border-box;text-align: center;}#sk-container-id-1 label.sk-toggleable__label-arrow:before {content: \"▸\";float: left;margin-right: 0.25em;color: #696969;}#sk-container-id-1 label.sk-toggleable__label-arrow:hover:before {color: black;}#sk-container-id-1 div.sk-estimator:hover label.sk-toggleable__label-arrow:before {color: black;}#sk-container-id-1 div.sk-toggleable__content {max-height: 0;max-width: 0;overflow: hidden;text-align: left;background-color: #f0f8ff;}#sk-container-id-1 div.sk-toggleable__content pre {margin: 0.2em;color: black;border-radius: 0.25em;background-color: #f0f8ff;}#sk-container-id-1 input.sk-toggleable__control:checked~div.sk-toggleable__content {max-height: 200px;max-width: 100%;overflow: auto;}#sk-container-id-1 input.sk-toggleable__control:checked~label.sk-toggleable__label-arrow:before {content: \"▾\";}#sk-container-id-1 div.sk-estimator input.sk-toggleable__control:checked~label.sk-toggleable__label {background-color: #d4ebff;}#sk-container-id-1 div.sk-label input.sk-toggleable__control:checked~label.sk-toggleable__label {background-color: #d4ebff;}#sk-container-id-1 input.sk-hidden--visually {border: 0;clip: rect(1px 1px 1px 1px);clip: rect(1px, 1px, 1px, 1px);height: 1px;margin: -1px;overflow: hidden;padding: 0;position: absolute;width: 1px;}#sk-container-id-1 div.sk-estimator {font-family: monospace;background-color: #f0f8ff;border: 1px dotted black;border-radius: 0.25em;box-sizing: border-box;margin-bottom: 0.5em;}#sk-container-id-1 div.sk-estimator:hover {background-color: #d4ebff;}#sk-container-id-1 div.sk-parallel-item::after {content: \"\";width: 100%;border-bottom: 1px solid gray;flex-grow: 1;}#sk-container-id-1 div.sk-label:hover label.sk-toggleable__label {background-color: #d4ebff;}#sk-container-id-1 div.sk-serial::before {content: \"\";position: absolute;border-left: 1px solid gray;box-sizing: border-box;top: 0;bottom: 0;left: 50%;z-index: 0;}#sk-container-id-1 div.sk-serial {display: flex;flex-direction: column;align-items: center;background-color: white;padding-right: 0.2em;padding-left: 0.2em;position: relative;}#sk-container-id-1 div.sk-item {position: relative;z-index: 1;}#sk-container-id-1 div.sk-parallel {display: flex;align-items: stretch;justify-content: center;background-color: white;position: relative;}#sk-container-id-1 div.sk-item::before, #sk-container-id-1 div.sk-parallel-item::before {content: \"\";position: absolute;border-left: 1px solid gray;box-sizing: border-box;top: 0;bottom: 0;left: 50%;z-index: -1;}#sk-container-id-1 div.sk-parallel-item {display: flex;flex-direction: column;z-index: 1;position: relative;background-color: white;}#sk-container-id-1 div.sk-parallel-item:first-child::after {align-self: flex-end;width: 50%;}#sk-container-id-1 div.sk-parallel-item:last-child::after {align-self: flex-start;width: 50%;}#sk-container-id-1 div.sk-parallel-item:only-child::after {width: 0;}#sk-container-id-1 div.sk-dashed-wrapped {border: 1px dashed gray;margin: 0 0.4em 0.5em 0.4em;box-sizing: border-box;padding-bottom: 0.4em;background-color: white;}#sk-container-id-1 div.sk-label label {font-family: monospace;font-weight: bold;display: inline-block;line-height: 1.2em;}#sk-container-id-1 div.sk-label-container {text-align: center;}#sk-container-id-1 div.sk-container {/* jupyter's `normalize.less` sets `[hidden] { display: none; }` but bootstrap.min.css set `[hidden] { display: none !important; }` so we also need the `!important` here to be able to override the default hidden behavior on the sphinx rendered scikit-learn.org. See: https://github.com/scikit-learn/scikit-learn/issues/21755 */display: inline-block !important;position: relative;}#sk-container-id-1 div.sk-text-repr-fallback {display: none;}</style><div id=\"sk-container-id-1\" class=\"sk-top-container\"><div class=\"sk-text-repr-fallback\"><pre>RandomForestRegressor()</pre><b>In a Jupyter environment, please rerun this cell to show the HTML representation or trust the notebook. <br />On GitHub, the HTML representation is unable to render, please try loading this page with nbviewer.org.</b></div><div class=\"sk-container\" hidden><div class=\"sk-item\"><div class=\"sk-estimator sk-toggleable\"><input class=\"sk-toggleable__control sk-hidden--visually\" id=\"sk-estimator-id-1\" type=\"checkbox\" checked><label for=\"sk-estimator-id-1\" class=\"sk-toggleable__label sk-toggleable__label-arrow\">RandomForestRegressor</label><div class=\"sk-toggleable__content\"><pre>RandomForestRegressor()</pre></div></div></div></div></div>"
            ],
            "text/plain": [
              "RandomForestRegressor()"
            ]
          },
          "execution_count": 18,
          "metadata": {},
          "output_type": "execute_result"
        }
      ],
      "source": [
        "# training the model\n",
        "regressor.fit(X_train,Y_train)"
      ]
    },
    {
      "cell_type": "markdown",
      "id": "fc83c3d8",
      "metadata": {
        "id": "fc83c3d8"
      },
      "source": [
        "Model Evaluation"
      ]
    },
    {
      "cell_type": "code",
      "execution_count": null,
      "id": "0edba40c",
      "metadata": {
        "id": "0edba40c"
      },
      "outputs": [],
      "source": [
        "# prediction on Test Data\n",
        "test_data_prediction = regressor.predict(X_test)"
      ]
    },
    {
      "cell_type": "code",
      "execution_count": null,
      "id": "3210f851",
      "metadata": {
        "id": "3210f851",
        "outputId": "4a65445d-de85-4f63-cca5-4cd48afc6f1b"
      },
      "outputs": [
        {
          "name": "stdout",
          "output_type": "stream",
          "text": [
            "[ 792.9803  456.2223  288.447  1550.6956 1259.8171   56.9153  369.3354\n",
            "   56.9153  363.292   464.0589  205.0627]\n"
          ]
        }
      ],
      "source": [
        "print(test_data_prediction)"
      ]
    },
    {
      "cell_type": "code",
      "execution_count": null,
      "id": "ebf601f2",
      "metadata": {
        "id": "ebf601f2",
        "outputId": "ae52aae8-1e91-4a83-ff15-971f0c13b741"
      },
      "outputs": [
        {
          "name": "stdout",
          "output_type": "stream",
          "text": [
            "R squared error :  0.9707592244487806\n"
          ]
        }
      ],
      "source": [
        "# R squared error\n",
        "error_score = metrics.r2_score(Y_test, test_data_prediction)\n",
        "print(\"R squared error : \", error_score)"
      ]
    },
    {
      "cell_type": "markdown",
      "id": "f43bd3fc",
      "metadata": {
        "id": "f43bd3fc"
      },
      "source": [
        "Compare the Actual Values and Predicted Values in a Plot"
      ]
    },
    {
      "cell_type": "code",
      "execution_count": null,
      "id": "d8833768",
      "metadata": {
        "id": "d8833768"
      },
      "outputs": [],
      "source": [
        "Y_test = list(Y_test)"
      ]
    },
    {
      "cell_type": "code",
      "execution_count": null,
      "id": "5a7fef31",
      "metadata": {
        "id": "5a7fef31",
        "outputId": "6f31783e-df6f-45b8-f0ab-deb5389a3bc7"
      },
      "outputs": [
        {
          "data": {
            "image/png": "[encoded data removed]",
            "text/plain": [
              "<Figure size 432x288 with 1 Axes>"
            ]
          },
          "metadata": {
            "needs_background": "light"
          },
          "output_type": "display_data"
        }
      ],
      "source": [
        "plt.plot(Y_test, color='blue', label = 'Actual Value')\n",
        "plt.plot(test_data_prediction, color='green', label='Predicted Value')\n",
        "plt.title('Actual Price vs Predicted Price')\n",
        "plt.xlabel('Number of values')\n",
        "plt.ylabel('GLD Price')\n",
        "plt.legend()\n",
        "plt.show()"
      ]
    },
    {
      "cell_type": "code",
      "execution_count": null,
      "id": "4ec22a66",
      "metadata": {
        "id": "4ec22a66"
      },
      "outputs": [],
      "source": [
        "pd.to_pickle(regressor,'gold_rbf.pkl')"
      ]
    },
    {
      "cell_type": "code",
      "execution_count": null,
      "id": "278cc58d",
      "metadata": {
        "id": "278cc58d"
      },
      "outputs": [],
      "source": [
        "## load the model from disk\n",
        "loaded_model = pickle.load(open('gold_rbf.pkl', 'rb'))"
      ]
    },
    {
      "cell_type": "code",
      "execution_count": null,
      "id": "76399379",
      "metadata": {
        "id": "76399379",
        "outputId": "2bbd9a54-bbd1-49a3-96fd-83926f8c29f1"
      },
      "outputs": [
        {
          "name": "stdout",
          "output_type": "stream",
          "text": [
            "RandomForestRegressor()\n"
          ]
        }
      ],
      "source": [
        "#Print The Type of Regressor Model\n",
        "print(loaded_model)"
      ]
    },
    {
      "cell_type": "code",
      "execution_count": null,
      "id": "9f9010c3",
      "metadata": {
        "id": "9f9010c3"
      },
      "outputs": [],
      "source": [
        "#Check the accuracy of the model\n",
        "result = loaded_model.score(X_test, Y_test)"
      ]
    },
    {
      "cell_type": "code",
      "execution_count": null,
      "id": "77ee58bf",
      "metadata": {
        "scrolled": true,
        "id": "77ee58bf",
        "outputId": "9ed974c6-c93d-48ba-d774-536f397f3967"
      },
      "outputs": [
        {
          "name": "stdout",
          "output_type": "stream",
          "text": [
            "0.9707592244487806\n"
          ]
        }
      ],
      "source": [
        "print(result)"
      ]
    },
    {
      "cell_type": "code",
      "execution_count": null,
      "id": "59e26b1c",
      "metadata": {
        "id": "59e26b1c"
      },
      "outputs": [],
      "source": []
    }
  ],
  "metadata": {
    "kernelspec": {
      "display_name": "Python 3 (ipykernel)",
      "language": "python",
      "name": "python3"
    },
    "language_info": {
      "codemirror_mode": {
        "name": "ipython",
        "version": 3
      },
      "file_extension": ".py",
      "mimetype": "text/x-python",
      "name": "python",
      "nbconvert_exporter": "python",
      "pygments_lexer": "ipython3",
      "version": "3.9.12"
    },
    "colab": {
      "provenance": []
    }
  },
  "nbformat": 4,
  "nbformat_minor": 5
}