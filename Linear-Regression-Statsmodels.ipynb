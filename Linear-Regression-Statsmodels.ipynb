{
 "cells": [
  {
   "cell_type": "markdown",
   "metadata": {},
   "source": [
    "# Regresi Linier\n",
    "\n",
    "Analisis regresi linier digunakan untuk memprediksi nilai suatu variabel berdasarkan nilai variabel lain. Variabel yang ingin Anda prediksi disebut variabel dependen. Variabel yang Anda gunakan untuk memprediksi nilai variabel lain disebut variabel independen.\n",
    "\n",
    "![](figs/fig1.jpg \"Berbagai macam bentuk regresi linier\")\n",
    "\n",
    "Solusinya: Asumsi data adalah linear.\n",
    "\n",
    "![](figs/fig2.jpg \"formula garis\")\n",
    "\n",
    "\n",
    "![](figs/fig3.jpg \"regresi linier\")\n",
    "\n",
    "Error dapat dihitung dengan membedakan selisih dari nilai prediksi dengan nilai awal (original).\n",
    "\n",
    "![](figs/fig4.jpg \"estimasi error\")\n",
    "\n",
    "\n",
    "Implementasi Python, kita dapat menggunakan statsmodels, https://www.statsmodels.org/.\n",
    "```\n",
    "pip install statsmodels\n",
    "pip3 install statsmodels\n",
    "```\n",
    "\n",
    "\n",
    "Referense:\n",
    "* https://www.alpharithms.com/simple-linear-regression-modeling-502111/"
   ]
  },
  {
   "cell_type": "code",
   "execution_count": 1,
   "metadata": {},
   "outputs": [
    {
     "name": "stdout",
     "output_type": "stream",
     "text": [
      "Requirement already satisfied: statsmodels in c:\\python\\python38\\lib\\site-packages (0.12.2)\n",
      "Requirement already satisfied: scipy>=1.1 in c:\\python\\python38\\lib\\site-packages (from statsmodels) (1.4.1)\n",
      "Requirement already satisfied: numpy>=1.15 in c:\\python\\python38\\lib\\site-packages (from statsmodels) (1.19.3)\n",
      "Requirement already satisfied: patsy>=0.5 in c:\\python\\python38\\lib\\site-packages (from statsmodels) (0.5.1)\n",
      "Requirement already satisfied: pandas>=0.21 in c:\\python\\python38\\lib\\site-packages (from statsmodels) (1.2.2)\n",
      "Requirement already satisfied: python-dateutil>=2.7.3 in c:\\python\\python38\\lib\\site-packages (from pandas>=0.21->statsmodels) (2.8.1)\n"
     ]
    },
    {
     "name": "stderr",
     "output_type": "stream",
     "text": [
      "WARNING: Ignoring invalid distribution -atplotlib (c:\\python\\python38\\lib\\site-packages)\n",
      "WARNING: Ignoring invalid distribution -atplotlib (c:\\python\\python38\\lib\\site-packages)\n",
      "WARNING: Ignoring invalid distribution -atplotlib (c:\\python\\python38\\lib\\site-packages)\n",
      "WARNING: Ignoring invalid distribution -atplotlib (c:\\python\\python38\\lib\\site-packages)\n",
      "WARNING: Ignoring invalid distribution -atplotlib (c:\\python\\python38\\lib\\site-packages)\n"
     ]
    },
    {
     "name": "stdout",
     "output_type": "stream",
     "text": [
      "Requirement already satisfied: pytz>=2017.3 in c:\\python\\python38\\lib\\site-packages (from pandas>=0.21->statsmodels) (2021.1)\n",
      "Requirement already satisfied: six in c:\\python\\python38\\lib\\site-packages (from patsy>=0.5->statsmodels) (1.15.0)\n"
     ]
    }
   ],
   "source": [
    "!pip install statsmodels"
   ]
  },
  {
   "cell_type": "markdown",
   "metadata": {},
   "source": [
    "# Studi Kasus: Solusi Permasalahan Iklan Dengan Python - statsmodels"
   ]
  },
  {
   "cell_type": "code",
   "execution_count": 1,
   "metadata": {
    "colab": {},
    "colab_type": "code",
    "id": "d9KykN-W2NFZ"
   },
   "outputs": [],
   "source": [
    "import pandas as pd\n",
    "import numpy as np\n",
    "import statsmodels.formula.api as smf\n",
    "import matplotlib.pyplot as plt\n",
    "%matplotlib inline"
   ]
  },
  {
   "cell_type": "code",
   "execution_count": 2,
   "metadata": {
    "colab": {
     "base_uri": "https://localhost:8080/",
     "height": 204
    },
    "colab_type": "code",
    "id": "dQe6xJZi2NFf",
    "outputId": "3279cead-6e59-453a-d6ed-df7a1b222688"
   },
   "outputs": [
    {
     "data": {
      "text/html": [
       "<div>\n",
       "<style scoped>\n",
       "    .dataframe tbody tr th:only-of-type {\n",
       "        vertical-align: middle;\n",
       "    }\n",
       "\n",
       "    .dataframe tbody tr th {\n",
       "        vertical-align: top;\n",
       "    }\n",
       "\n",
       "    .dataframe thead th {\n",
       "        text-align: right;\n",
       "    }\n",
       "</style>\n",
       "<table border=\"1\" class=\"dataframe\">\n",
       "  <thead>\n",
       "    <tr style=\"text-align: right;\">\n",
       "      <th></th>\n",
       "      <th>TV</th>\n",
       "      <th>Radio</th>\n",
       "      <th>Newspaper</th>\n",
       "      <th>Sales</th>\n",
       "    </tr>\n",
       "  </thead>\n",
       "  <tbody>\n",
       "    <tr>\n",
       "      <th>0</th>\n",
       "      <td>230.1</td>\n",
       "      <td>37.8</td>\n",
       "      <td>69.2</td>\n",
       "      <td>22.1</td>\n",
       "    </tr>\n",
       "    <tr>\n",
       "      <th>1</th>\n",
       "      <td>44.5</td>\n",
       "      <td>39.3</td>\n",
       "      <td>45.1</td>\n",
       "      <td>10.4</td>\n",
       "    </tr>\n",
       "    <tr>\n",
       "      <th>2</th>\n",
       "      <td>17.2</td>\n",
       "      <td>45.9</td>\n",
       "      <td>69.3</td>\n",
       "      <td>9.3</td>\n",
       "    </tr>\n",
       "    <tr>\n",
       "      <th>3</th>\n",
       "      <td>151.5</td>\n",
       "      <td>41.3</td>\n",
       "      <td>58.5</td>\n",
       "      <td>18.5</td>\n",
       "    </tr>\n",
       "    <tr>\n",
       "      <th>4</th>\n",
       "      <td>180.8</td>\n",
       "      <td>10.8</td>\n",
       "      <td>58.4</td>\n",
       "      <td>12.9</td>\n",
       "    </tr>\n",
       "  </tbody>\n",
       "</table>\n",
       "</div>"
      ],
      "text/plain": [
       "      TV  Radio  Newspaper  Sales\n",
       "0  230.1   37.8       69.2   22.1\n",
       "1   44.5   39.3       45.1   10.4\n",
       "2   17.2   45.9       69.3    9.3\n",
       "3  151.5   41.3       58.5   18.5\n",
       "4  180.8   10.8       58.4   12.9"
      ]
     },
     "execution_count": 2,
     "metadata": {},
     "output_type": "execute_result"
    }
   ],
   "source": [
    "# ambil data\n",
    "filename = 'datasets/Advertising.csv'\n",
    "advert=pd.read_csv(filename)\n",
    "advert.head()"
   ]
  },
  {
   "cell_type": "markdown",
   "metadata": {
    "tags": []
   },
   "source": [
    "## Ordinary Least Squares (OLS)\n",
    "\n",
    "Ordinary Least Squares (OLS) adalah teknik umum untuk memperkirakan koefisien persamaan regresi linier yang menggambarkan hubungan antara satu atau lebih variabel kuantitatif independen dan variabel dependen.\n",
    "\n",
    "### Sales dan TV"
   ]
  },
  {
   "cell_type": "code",
   "execution_count": 4,
   "metadata": {
    "colab": {},
    "colab_type": "code",
    "id": "mvubMJym2NFi"
   },
   "outputs": [],
   "source": [
    "# Asumsi Model\n",
    "# Model 1: Hubungan linier antara biaya iklan di TV dan penjualan\n",
    "# yaitu Sales = f(TV)= alfa + beta*TV\n",
    "# Dibuat paling cocok menggunakan metode least sum of square\n",
    "\n",
    "model1=smf.ols(formula='Sales~TV',data=advert).fit()"
   ]
  },
  {
   "cell_type": "code",
   "execution_count": null,
   "metadata": {},
   "outputs": [],
   "source": [
    "# model1=smf.ols(formula=\"quality~Q('fixed acidity')\",data=df1).fit()"
   ]
  },
  {
   "cell_type": "code",
   "execution_count": 5,
   "metadata": {
    "colab": {
     "base_uri": "https://localhost:8080/",
     "height": 68
    },
    "colab_type": "code",
    "id": "ywfDV3q32NFk",
    "outputId": "bc68a071-f1f1-43fd-b57f-7bb73df63930"
   },
   "outputs": [
    {
     "data": {
      "text/plain": [
       "Intercept    7.032594\n",
       "TV           0.047537\n",
       "dtype: float64"
      ]
     },
     "execution_count": 5,
     "metadata": {},
     "output_type": "execute_result"
    }
   ],
   "source": [
    "model1.params"
   ]
  },
  {
   "cell_type": "code",
   "execution_count": 6,
   "metadata": {
    "colab": {
     "base_uri": "https://localhost:8080/",
     "height": 68
    },
    "colab_type": "code",
    "id": "vEAXc5Eu2NFm",
    "outputId": "58e332fa-ad76-4f11-f6b9-29685d723c85"
   },
   "outputs": [
    {
     "data": {
      "text/plain": [
       "Intercept    1.406300e-35\n",
       "TV           1.467390e-42\n",
       "dtype: float64"
      ]
     },
     "execution_count": 6,
     "metadata": {},
     "output_type": "execute_result"
    }
   ],
   "source": [
    "model1.pvalues"
   ]
  },
  {
   "cell_type": "code",
   "execution_count": 7,
   "metadata": {
    "colab": {
     "base_uri": "https://localhost:8080/",
     "height": 34
    },
    "colab_type": "code",
    "id": "LAVseUQk2NFo",
    "outputId": "a7a2ed7b-6081-4c41-fc9c-1cd8bc753614"
   },
   "outputs": [
    {
     "data": {
      "text/plain": [
       "0.611875050850071"
      ]
     },
     "execution_count": 7,
     "metadata": {},
     "output_type": "execute_result"
    }
   ],
   "source": [
    "model1.rsquared"
   ]
  },
  {
   "cell_type": "code",
   "execution_count": 8,
   "metadata": {
    "colab": {
     "base_uri": "https://localhost:8080/",
     "height": 444
    },
    "colab_type": "code",
    "id": "uUJ_fGrW2NFq",
    "outputId": "da2dd478-6aac-4fa7-ab17-cf435c212cbf"
   },
   "outputs": [
    {
     "data": {
      "text/html": [
       "<table class=\"simpletable\">\n",
       "<caption>OLS Regression Results</caption>\n",
       "<tr>\n",
       "  <th>Dep. Variable:</th>          <td>Sales</td>      <th>  R-squared:         </th> <td>   0.612</td>\n",
       "</tr>\n",
       "<tr>\n",
       "  <th>Model:</th>                   <td>OLS</td>       <th>  Adj. R-squared:    </th> <td>   0.610</td>\n",
       "</tr>\n",
       "<tr>\n",
       "  <th>Method:</th>             <td>Least Squares</td>  <th>  F-statistic:       </th> <td>   312.1</td>\n",
       "</tr>\n",
       "<tr>\n",
       "  <th>Date:</th>             <td>Tue, 22 Mar 2022</td> <th>  Prob (F-statistic):</th> <td>1.47e-42</td>\n",
       "</tr>\n",
       "<tr>\n",
       "  <th>Time:</th>                 <td>08:36:27</td>     <th>  Log-Likelihood:    </th> <td> -519.05</td>\n",
       "</tr>\n",
       "<tr>\n",
       "  <th>No. Observations:</th>      <td>   200</td>      <th>  AIC:               </th> <td>   1042.</td>\n",
       "</tr>\n",
       "<tr>\n",
       "  <th>Df Residuals:</th>          <td>   198</td>      <th>  BIC:               </th> <td>   1049.</td>\n",
       "</tr>\n",
       "<tr>\n",
       "  <th>Df Model:</th>              <td>     1</td>      <th>                     </th>     <td> </td>   \n",
       "</tr>\n",
       "<tr>\n",
       "  <th>Covariance Type:</th>      <td>nonrobust</td>    <th>                     </th>     <td> </td>   \n",
       "</tr>\n",
       "</table>\n",
       "<table class=\"simpletable\">\n",
       "<tr>\n",
       "      <td></td>         <th>coef</th>     <th>std err</th>      <th>t</th>      <th>P>|t|</th>  <th>[0.025</th>    <th>0.975]</th>  \n",
       "</tr>\n",
       "<tr>\n",
       "  <th>Intercept</th> <td>    7.0326</td> <td>    0.458</td> <td>   15.360</td> <td> 0.000</td> <td>    6.130</td> <td>    7.935</td>\n",
       "</tr>\n",
       "<tr>\n",
       "  <th>TV</th>        <td>    0.0475</td> <td>    0.003</td> <td>   17.668</td> <td> 0.000</td> <td>    0.042</td> <td>    0.053</td>\n",
       "</tr>\n",
       "</table>\n",
       "<table class=\"simpletable\">\n",
       "<tr>\n",
       "  <th>Omnibus:</th>       <td> 0.531</td> <th>  Durbin-Watson:     </th> <td>   1.935</td>\n",
       "</tr>\n",
       "<tr>\n",
       "  <th>Prob(Omnibus):</th> <td> 0.767</td> <th>  Jarque-Bera (JB):  </th> <td>   0.669</td>\n",
       "</tr>\n",
       "<tr>\n",
       "  <th>Skew:</th>          <td>-0.089</td> <th>  Prob(JB):          </th> <td>   0.716</td>\n",
       "</tr>\n",
       "<tr>\n",
       "  <th>Kurtosis:</th>      <td> 2.779</td> <th>  Cond. No.          </th> <td>    338.</td>\n",
       "</tr>\n",
       "</table><br/><br/>Notes:<br/>[1] Standard Errors assume that the covariance matrix of the errors is correctly specified."
      ],
      "text/plain": [
       "<class 'statsmodels.iolib.summary.Summary'>\n",
       "\"\"\"\n",
       "                            OLS Regression Results                            \n",
       "==============================================================================\n",
       "Dep. Variable:                  Sales   R-squared:                       0.612\n",
       "Model:                            OLS   Adj. R-squared:                  0.610\n",
       "Method:                 Least Squares   F-statistic:                     312.1\n",
       "Date:                Tue, 22 Mar 2022   Prob (F-statistic):           1.47e-42\n",
       "Time:                        08:36:27   Log-Likelihood:                -519.05\n",
       "No. Observations:                 200   AIC:                             1042.\n",
       "Df Residuals:                     198   BIC:                             1049.\n",
       "Df Model:                           1                                         \n",
       "Covariance Type:            nonrobust                                         \n",
       "==============================================================================\n",
       "                 coef    std err          t      P>|t|      [0.025      0.975]\n",
       "------------------------------------------------------------------------------\n",
       "Intercept      7.0326      0.458     15.360      0.000       6.130       7.935\n",
       "TV             0.0475      0.003     17.668      0.000       0.042       0.053\n",
       "==============================================================================\n",
       "Omnibus:                        0.531   Durbin-Watson:                   1.935\n",
       "Prob(Omnibus):                  0.767   Jarque-Bera (JB):                0.669\n",
       "Skew:                          -0.089   Prob(JB):                        0.716\n",
       "Kurtosis:                       2.779   Cond. No.                         338.\n",
       "==============================================================================\n",
       "\n",
       "Notes:\n",
       "[1] Standard Errors assume that the covariance matrix of the errors is correctly specified.\n",
       "\"\"\""
      ]
     },
     "execution_count": 8,
     "metadata": {},
     "output_type": "execute_result"
    }
   ],
   "source": [
    "model1.summary()"
   ]
  },
  {
   "cell_type": "code",
   "execution_count": 9,
   "metadata": {
    "colab": {
     "base_uri": "https://localhost:8080/",
     "height": 221
    },
    "colab_type": "code",
    "id": "-Mq-71PS2NFs",
    "outputId": "b52f2179-7a03-4d21-9318-02ee8ed4989b"
   },
   "outputs": [
    {
     "data": {
      "text/plain": [
       "0      17.970775\n",
       "1       9.147974\n",
       "2       7.850224\n",
       "3      14.234395\n",
       "4      15.627218\n",
       "         ...    \n",
       "195     8.848493\n",
       "196    11.510545\n",
       "197    15.446579\n",
       "198    20.513985\n",
       "199    18.065848\n",
       "Length: 200, dtype: float64"
      ]
     },
     "execution_count": 9,
     "metadata": {},
     "output_type": "execute_result"
    }
   ],
   "source": [
    "# Prediksi nilai penjualan berdasarkan persamaan \n",
    "sales_pred=model1.predict(pd.DataFrame(advert['TV']))\n",
    "sales_pred"
   ]
  },
  {
   "cell_type": "code",
   "execution_count": 10,
   "metadata": {},
   "outputs": [
    {
     "data": {
      "text/plain": [
       "0      17.968264\n",
       "1       9.145397\n",
       "2       7.847636\n",
       "3      14.231856\n",
       "4      15.624690\n",
       "         ...    \n",
       "195     8.845913\n",
       "196    11.507985\n",
       "197    15.444049\n",
       "198    20.511493\n",
       "199    18.063338\n",
       "Name: TV, Length: 200, dtype: float64"
      ]
     },
     "execution_count": 10,
     "metadata": {},
     "output_type": "execute_result"
    }
   ],
   "source": [
    "sales_pred2 = 0.047537*advert['TV']+7.03\n",
    "sales_pred2"
   ]
  },
  {
   "cell_type": "code",
   "execution_count": 12,
   "metadata": {
    "colab": {
     "base_uri": "https://localhost:8080/",
     "height": 34
    },
    "colab_type": "code",
    "id": "Jkoue9ik2NFu",
    "outputId": "4a3f3a94-5486-47ee-dbb9-026e6d623948"
   },
   "outputs": [
    {
     "data": {
      "text/plain": [
       "(3.2423221486546887, 0.6343205996235858, 0.23122283106826091)"
      ]
     },
     "execution_count": 12,
     "metadata": {},
     "output_type": "execute_result"
    }
   ],
   "source": [
    "# Hitung RMSE dan RSE untuk model 1 \n",
    "advert['sales_pred']=sales_pred\n",
    "\n",
    "# RMSE\n",
    "advert['RSEd']=(advert['Sales']-advert['sales_pred'])**2\n",
    "RSEd=advert.sum()['RSEd']\n",
    "RMSE=np.sqrt(RSEd/200)\n",
    "#RSE=np.sqrt(RSEd/198) # # Df Residuals (n-p-1): 200-1-1 = 198 \n",
    "# [1/(n-p-1)]:n=jumlah titik data;p=jumlah variabel prediktor \n",
    "\n",
    "# RSE\n",
    "sales_pred_mean=np.mean(advert['sales_pred'])\n",
    "advert['RSEp']=(sales_pred_mean-advert['sales_pred'])**2\n",
    "RSEp=advert.sum()['RSEp']\n",
    "RSE=RSEd/RSEp\n",
    "\n",
    "sales_mean = np.mean(advert['Sales'])\n",
    "error=RMSE/sales_mean\n",
    "# print nilai RSE,sales_mean,error\n",
    "RMSE,RSE,error"
   ]
  },
  {
   "cell_type": "code",
   "execution_count": 13,
   "metadata": {},
   "outputs": [
    {
     "data": {
      "text/plain": [
       "3.2423221486546887"
      ]
     },
     "execution_count": 13,
     "metadata": {},
     "output_type": "execute_result"
    }
   ],
   "source": [
    "# pakai fungsi rmse\n",
    "from statsmodels.tools.eval_measures import rmse\n",
    "\n",
    "# calc rmse\n",
    "rmse_val = rmse(advert['Sales'], sales_pred)\n",
    "rmse_val"
   ]
  },
  {
   "cell_type": "code",
   "execution_count": 14,
   "metadata": {
    "colab": {
     "base_uri": "https://localhost:8080/",
     "height": 312
    },
    "colab_type": "code",
    "id": "n7-tY0SA2NFw",
    "outputId": "ddd10936-ce51-42d9-d629-5461395d0fae"
   },
   "outputs": [
    {
     "data": {
      "text/plain": [
       "Text(0.5, 1.0, 'Predicted Sales vs TV Advertising Costs OLS')"
      ]
     },
     "execution_count": 14,
     "metadata": {},
     "output_type": "execute_result"
    },
    {
     "data": {
      "image/png": "[encoded data removed]",
      "text/plain": [
       "<Figure size 432x288 with 1 Axes>"
      ]
     },
     "metadata": {
      "needs_background": "light"
     },
     "output_type": "display_data"
    }
   ],
   "source": [
    "# Plot Penjualan yang diprediksi vs biaya Iklan TV \n",
    "advert.plot(kind='scatter', x='TV', y='Sales')\n",
    "plt.plot(pd.DataFrame(advert['TV']),sales_pred,c='red',linewidth=2)\n",
    "plt.title('Predicted Sales vs TV Advertising Costs OLS')\n"
   ]
  },
  {
   "cell_type": "code",
   "execution_count": 23,
   "metadata": {},
   "outputs": [
    {
     "data": {
      "text/plain": [
       "8.45611"
      ]
     },
     "execution_count": 23,
     "metadata": {},
     "output_type": "execute_result"
    }
   ],
   "source": [
    "sales_pred3 = 0.047537*30+7.03\n",
    "sales_pred3"
   ]
  },
  {
   "cell_type": "markdown",
   "metadata": {},
   "source": [
    "### Sales dan Radio"
   ]
  },
  {
   "cell_type": "code",
   "execution_count": null,
   "metadata": {},
   "outputs": [],
   "source": [
    "advert['Radio']"
   ]
  },
  {
   "cell_type": "code",
   "execution_count": null,
   "metadata": {},
   "outputs": [],
   "source": [
    "model2=smf.ols(formula='Sales~Radio',data=advert).fit()\n",
    "model2.summary()\n"
   ]
  },
  {
   "cell_type": "code",
   "execution_count": null,
   "metadata": {},
   "outputs": [],
   "source": [
    "sales_pred2=model2.predict(pd.DataFrame(advert['Radio']))\n",
    "sales_pred2"
   ]
  },
  {
   "cell_type": "code",
   "execution_count": null,
   "metadata": {},
   "outputs": [],
   "source": [
    "# Hitung RMSE dan RSE untuk model 2 \n",
    "advert['sales_pred2']=sales_pred2\n",
    "\n",
    "# RMSE\n",
    "advert['RSEd2']=(advert['Sales']-advert['sales_pred2'])**2\n",
    "RSEd=advert.sum()['RSEd2']\n",
    "RMSE=np.sqrt(RSEd/200)\n",
    "#RSE=np.sqrt(RSEd/198) # # Df Residuals (n-p-1): 200-1-1 = 198 \n",
    "# [1/(n-p-1)]:n=jumlah titik data;p=jumlah variabel prediktor \n",
    "\n",
    "# RSE\n",
    "sales_pred_mean=np.mean(advert['sales_pred2'])\n",
    "advert['RSEp2']=(sales_pred_mean-advert['sales_pred2'])**2\n",
    "RSEp=advert.sum()['RSEp2']\n",
    "RSE=RSEd/RSEp\n",
    "\n",
    "error=RMSE/sales_mean\n",
    "# print nilai RSE,sales_mean,error\n",
    "RMSE,RSE,error"
   ]
  },
  {
   "cell_type": "code",
   "execution_count": null,
   "metadata": {
    "colab": {
     "base_uri": "https://localhost:8080/",
     "height": 312
    },
    "colab_type": "code",
    "id": "8805poKP3DmI",
    "outputId": "b8480248-1aef-478e-95e6-f417b2a8d37d"
   },
   "outputs": [],
   "source": [
    "# Plot the Sales predicted vs TV Advertising costs\n",
    "advert.plot(kind='scatter', x='Radio', y='Sales')\n",
    "plt.plot(pd.DataFrame(advert['Radio']),sales_pred2,c='red',linewidth=2)\n",
    "plt.title('Predicted Sales vs Radio Advertising Costs - OLS')"
   ]
  },
  {
   "cell_type": "markdown",
   "metadata": {},
   "source": [
    "### Sales dan Newspaper"
   ]
  },
  {
   "cell_type": "code",
   "execution_count": null,
   "metadata": {},
   "outputs": [],
   "source": [
    "advert['Newspaper']"
   ]
  },
  {
   "cell_type": "code",
   "execution_count": null,
   "metadata": {},
   "outputs": [],
   "source": [
    "model3=smf.ols(formula='Sales~Newspaper',data=advert).fit()\n",
    "model3.summary()"
   ]
  },
  {
   "cell_type": "code",
   "execution_count": null,
   "metadata": {
    "colab": {
     "base_uri": "https://localhost:8080/",
     "height": 312
    },
    "colab_type": "code",
    "id": "1vCqW68Z3bhg",
    "outputId": "52c79c63-d867-4851-c460-e0f616853c87"
   },
   "outputs": [],
   "source": [
    "sales_pred3=model3.predict(pd.DataFrame(advert['Newspaper']))\n",
    "sales_pred3"
   ]
  },
  {
   "cell_type": "code",
   "execution_count": null,
   "metadata": {},
   "outputs": [],
   "source": [
    "# Hitung RMSE dan RSE untuk model 3 \n",
    "advert['sales_pred3']=sales_pred3\n",
    "\n",
    "# RMSE\n",
    "advert['RSEd3']=(advert['Sales']-advert['sales_pred3'])**2\n",
    "RSEd=advert.sum()['RSEd3']\n",
    "RMSE=np.sqrt(RSEd/200)\n",
    "#RSE=np.sqrt(RSEd/198) # # Df Residuals (n-p-1): 200-1-1 = 198 \n",
    "# [1/(n-p-1)]:n=jumlah titik data;p=jumlah variabel prediktor \n",
    "\n",
    "# RSE\n",
    "sales_pred_mean=np.mean(advert['sales_pred3'])\n",
    "advert['RSEp3']=(sales_pred_mean-advert['sales_pred3'])**2\n",
    "RSEp=advert.sum()['RSEp3']\n",
    "RSE=RSEd/RSEp\n",
    "\n",
    "error=RMSE/sales_mean\n",
    "# print nilai RSE,sales_mean,error\n",
    "RMSE,RSE,error"
   ]
  },
  {
   "cell_type": "code",
   "execution_count": null,
   "metadata": {},
   "outputs": [],
   "source": [
    "# Plot the Sales predicted vs TV Advertising costs\n",
    "advert.plot(kind='scatter', x='Newspaper', y='Sales')\n",
    "plt.plot(pd.DataFrame(advert['Newspaper']),sales_pred3,c='red',linewidth=2)\n",
    "plt.title('Predicted Sales vs Newspaper Advertising Costs - OLS')"
   ]
  },
  {
   "cell_type": "markdown",
   "metadata": {},
   "source": [
    "## Weighted Least Squares (WLS)\n",
    "\n",
    "Ordinary Least Squares (OLS) dapat digunakan jika kita dapat mengasumsikan bahwa data kita homoscedastic. Weighted Least Squares (WLS) dapat digunakan ketika data Anda heteroscedastic (tetapi tidak berkorelasi)."
   ]
  },
  {
   "cell_type": "markdown",
   "metadata": {},
   "source": [
    "### Sales dan TV"
   ]
  },
  {
   "cell_type": "code",
   "execution_count": 3,
   "metadata": {},
   "outputs": [],
   "source": [
    "nsample = len(advert.index)\n",
    "w = np.ones(nsample)\n",
    "w[nsample * 6 // 10 :] = 3"
   ]
  },
  {
   "cell_type": "code",
   "execution_count": 4,
   "metadata": {},
   "outputs": [],
   "source": [
    "model1=smf.wls(formula='Sales~TV',data=advert, weights=1.0 / (w ** 2)).fit()"
   ]
  },
  {
   "cell_type": "code",
   "execution_count": 5,
   "metadata": {},
   "outputs": [
    {
     "data": {
      "text/html": [
       "<table class=\"simpletable\">\n",
       "<caption>WLS Regression Results</caption>\n",
       "<tr>\n",
       "  <th>Dep. Variable:</th>          <td>Sales</td>      <th>  R-squared:         </th> <td>   0.632</td>\n",
       "</tr>\n",
       "<tr>\n",
       "  <th>Model:</th>                   <td>WLS</td>       <th>  Adj. R-squared:    </th> <td>   0.630</td>\n",
       "</tr>\n",
       "<tr>\n",
       "  <th>Method:</th>             <td>Least Squares</td>  <th>  F-statistic:       </th> <td>   340.4</td>\n",
       "</tr>\n",
       "<tr>\n",
       "  <th>Date:</th>             <td>Wed, 23 Mar 2022</td> <th>  Prob (F-statistic):</th> <td>6.90e-45</td>\n",
       "</tr>\n",
       "<tr>\n",
       "  <th>Time:</th>                 <td>08:05:44</td>     <th>  Log-Likelihood:    </th> <td> -554.36</td>\n",
       "</tr>\n",
       "<tr>\n",
       "  <th>No. Observations:</th>      <td>   200</td>      <th>  AIC:               </th> <td>   1113.</td>\n",
       "</tr>\n",
       "<tr>\n",
       "  <th>Df Residuals:</th>          <td>   198</td>      <th>  BIC:               </th> <td>   1119.</td>\n",
       "</tr>\n",
       "<tr>\n",
       "  <th>Df Model:</th>              <td>     1</td>      <th>                     </th>     <td> </td>   \n",
       "</tr>\n",
       "<tr>\n",
       "  <th>Covariance Type:</th>      <td>nonrobust</td>    <th>                     </th>     <td> </td>   \n",
       "</tr>\n",
       "</table>\n",
       "<table class=\"simpletable\">\n",
       "<tr>\n",
       "      <td></td>         <th>coef</th>     <th>std err</th>      <th>t</th>      <th>P>|t|</th>  <th>[0.025</th>    <th>0.975]</th>  \n",
       "</tr>\n",
       "<tr>\n",
       "  <th>Intercept</th> <td>    7.1927</td> <td>    0.446</td> <td>   16.134</td> <td> 0.000</td> <td>    6.314</td> <td>    8.072</td>\n",
       "</tr>\n",
       "<tr>\n",
       "  <th>TV</th>        <td>    0.0482</td> <td>    0.003</td> <td>   18.451</td> <td> 0.000</td> <td>    0.043</td> <td>    0.053</td>\n",
       "</tr>\n",
       "</table>\n",
       "<table class=\"simpletable\">\n",
       "<tr>\n",
       "  <th>Omnibus:</th>       <td> 7.453</td> <th>  Durbin-Watson:     </th> <td>   1.936</td>\n",
       "</tr>\n",
       "<tr>\n",
       "  <th>Prob(Omnibus):</th> <td> 0.024</td> <th>  Jarque-Bera (JB):  </th> <td>  12.248</td>\n",
       "</tr>\n",
       "<tr>\n",
       "  <th>Skew:</th>          <td>-0.122</td> <th>  Prob(JB):          </th> <td> 0.00219</td>\n",
       "</tr>\n",
       "<tr>\n",
       "  <th>Kurtosis:</th>      <td> 4.187</td> <th>  Cond. No.          </th> <td>    345.</td>\n",
       "</tr>\n",
       "</table><br/><br/>Notes:<br/>[1] Standard Errors assume that the covariance matrix of the errors is correctly specified."
      ],
      "text/plain": [
       "<class 'statsmodels.iolib.summary.Summary'>\n",
       "\"\"\"\n",
       "                            WLS Regression Results                            \n",
       "==============================================================================\n",
       "Dep. Variable:                  Sales   R-squared:                       0.632\n",
       "Model:                            WLS   Adj. R-squared:                  0.630\n",
       "Method:                 Least Squares   F-statistic:                     340.4\n",
       "Date:                Wed, 23 Mar 2022   Prob (F-statistic):           6.90e-45\n",
       "Time:                        08:05:44   Log-Likelihood:                -554.36\n",
       "No. Observations:                 200   AIC:                             1113.\n",
       "Df Residuals:                     198   BIC:                             1119.\n",
       "Df Model:                           1                                         \n",
       "Covariance Type:            nonrobust                                         \n",
       "==============================================================================\n",
       "                 coef    std err          t      P>|t|      [0.025      0.975]\n",
       "------------------------------------------------------------------------------\n",
       "Intercept      7.1927      0.446     16.134      0.000       6.314       8.072\n",
       "TV             0.0482      0.003     18.451      0.000       0.043       0.053\n",
       "==============================================================================\n",
       "Omnibus:                        7.453   Durbin-Watson:                   1.936\n",
       "Prob(Omnibus):                  0.024   Jarque-Bera (JB):               12.248\n",
       "Skew:                          -0.122   Prob(JB):                      0.00219\n",
       "Kurtosis:                       4.187   Cond. No.                         345.\n",
       "==============================================================================\n",
       "\n",
       "Notes:\n",
       "[1] Standard Errors assume that the covariance matrix of the errors is correctly specified.\n",
       "\"\"\""
      ]
     },
     "execution_count": 5,
     "metadata": {},
     "output_type": "execute_result"
    }
   ],
   "source": [
    "model1.summary()"
   ]
  },
  {
   "cell_type": "code",
   "execution_count": 6,
   "metadata": {},
   "outputs": [
    {
     "data": {
      "text/plain": [
       "0      18.280528\n",
       "1       9.337002\n",
       "2       8.021495\n",
       "3      14.493022\n",
       "4      15.904904\n",
       "         ...    \n",
       "195     9.033424\n",
       "196    11.731901\n",
       "197    15.721793\n",
       "198    20.858538\n",
       "199    18.376902\n",
       "Length: 200, dtype: float64"
      ]
     },
     "execution_count": 6,
     "metadata": {},
     "output_type": "execute_result"
    }
   ],
   "source": [
    "# Prediksi nilai penjualan berdasarkan persamaan \n",
    "sales_pred=model1.predict(pd.DataFrame(advert['TV']))\n",
    "sales_pred"
   ]
  },
  {
   "cell_type": "code",
   "execution_count": 7,
   "metadata": {},
   "outputs": [
    {
     "data": {
      "text/plain": [
       "(3.25286839365845, 0.621333650992963, 0.23197492555952576)"
      ]
     },
     "execution_count": 7,
     "metadata": {},
     "output_type": "execute_result"
    }
   ],
   "source": [
    "# Hitung RMSE dan RSE untuk model 1 \n",
    "advert['sales_pred']=sales_pred\n",
    "\n",
    "# RMSE\n",
    "advert['RSEd']=(advert['Sales']-advert['sales_pred'])**2\n",
    "RSEd=advert.sum()['RSEd']\n",
    "RMSE=np.sqrt(RSEd/200)\n",
    "#RSE=np.sqrt(RSEd/198) # # Df Residuals (n-p-1): 200-1-1 = 198 \n",
    "# [1/(n-p-1)]:n=jumlah titik data;p=jumlah variabel prediktor \n",
    "\n",
    "# RSE\n",
    "sales_pred_mean=np.mean(advert['sales_pred'])\n",
    "advert['RSEp']=(sales_pred_mean-advert['sales_pred'])**2\n",
    "RSEp=advert.sum()['RSEp']\n",
    "RSE=RSEd/RSEp\n",
    "\n",
    "sales_mean = np.mean(advert['Sales'])\n",
    "error=RMSE/sales_mean\n",
    "# print nilai RSE,sales_mean,error\n",
    "RMSE,RSE,error"
   ]
  },
  {
   "cell_type": "code",
   "execution_count": 8,
   "metadata": {},
   "outputs": [
    {
     "data": {
      "text/plain": [
       "Text(0.5, 1.0, 'Predicted Sales vs TV Advertising Costs - WLS')"
      ]
     },
     "execution_count": 8,
     "metadata": {},
     "output_type": "execute_result"
    },
    {
     "data": {
      "image/png": "[encoded data removed]",
      "text/plain": [
       "<Figure size 432x288 with 1 Axes>"
      ]
     },
     "metadata": {
      "needs_background": "light"
     },
     "output_type": "display_data"
    }
   ],
   "source": [
    "# Plot Penjualan yang diprediksi vs biaya Iklan TV \n",
    "advert.plot(kind='scatter', x='TV', y='Sales')\n",
    "plt.plot(pd.DataFrame(advert['TV']),sales_pred,c='red',linewidth=2)\n",
    "plt.title('Predicted Sales vs TV Advertising Costs - WLS')\n"
   ]
  },
  {
   "cell_type": "markdown",
   "metadata": {},
   "source": [
    "### Sales dan Radio"
   ]
  },
  {
   "cell_type": "code",
   "execution_count": 9,
   "metadata": {},
   "outputs": [
    {
     "data": {
      "text/plain": [
       "0      37.8\n",
       "1      39.3\n",
       "2      45.9\n",
       "3      41.3\n",
       "4      10.8\n",
       "       ... \n",
       "195     3.7\n",
       "196     4.9\n",
       "197     9.3\n",
       "198    42.0\n",
       "199     8.6\n",
       "Name: Radio, Length: 200, dtype: float64"
      ]
     },
     "execution_count": 9,
     "metadata": {},
     "output_type": "execute_result"
    }
   ],
   "source": [
    "advert['Radio']"
   ]
  },
  {
   "cell_type": "code",
   "execution_count": 10,
   "metadata": {},
   "outputs": [],
   "source": [
    "nsample = len(advert.index)\n",
    "w = np.ones(nsample)\n",
    "w[nsample * 6 // 10 :] = 3"
   ]
  },
  {
   "cell_type": "code",
   "execution_count": 11,
   "metadata": {},
   "outputs": [
    {
     "data": {
      "text/html": [
       "<table class=\"simpletable\">\n",
       "<caption>WLS Regression Results</caption>\n",
       "<tr>\n",
       "  <th>Dep. Variable:</th>          <td>Sales</td>      <th>  R-squared:         </th> <td>   0.371</td>\n",
       "</tr>\n",
       "<tr>\n",
       "  <th>Model:</th>                   <td>WLS</td>       <th>  Adj. R-squared:    </th> <td>   0.368</td>\n",
       "</tr>\n",
       "<tr>\n",
       "  <th>Method:</th>             <td>Least Squares</td>  <th>  F-statistic:       </th> <td>   116.9</td>\n",
       "</tr>\n",
       "<tr>\n",
       "  <th>Date:</th>             <td>Wed, 23 Mar 2022</td> <th>  Prob (F-statistic):</th> <td>1.04e-21</td>\n",
       "</tr>\n",
       "<tr>\n",
       "  <th>Time:</th>                 <td>08:08:51</td>     <th>  Log-Likelihood:    </th> <td> -608.00</td>\n",
       "</tr>\n",
       "<tr>\n",
       "  <th>No. Observations:</th>      <td>   200</td>      <th>  AIC:               </th> <td>   1220.</td>\n",
       "</tr>\n",
       "<tr>\n",
       "  <th>Df Residuals:</th>          <td>   198</td>      <th>  BIC:               </th> <td>   1227.</td>\n",
       "</tr>\n",
       "<tr>\n",
       "  <th>Df Model:</th>              <td>     1</td>      <th>                     </th>     <td> </td>   \n",
       "</tr>\n",
       "<tr>\n",
       "  <th>Covariance Type:</th>      <td>nonrobust</td>    <th>                     </th>     <td> </td>   \n",
       "</tr>\n",
       "</table>\n",
       "<table class=\"simpletable\">\n",
       "<tr>\n",
       "      <td></td>         <th>coef</th>     <th>std err</th>      <th>t</th>      <th>P>|t|</th>  <th>[0.025</th>    <th>0.975]</th>  \n",
       "</tr>\n",
       "<tr>\n",
       "  <th>Intercept</th> <td>    9.2221</td> <td>    0.554</td> <td>   16.635</td> <td> 0.000</td> <td>    8.129</td> <td>   10.315</td>\n",
       "</tr>\n",
       "<tr>\n",
       "  <th>Radio</th>     <td>    0.2131</td> <td>    0.020</td> <td>   10.812</td> <td> 0.000</td> <td>    0.174</td> <td>    0.252</td>\n",
       "</tr>\n",
       "</table>\n",
       "<table class=\"simpletable\">\n",
       "<tr>\n",
       "  <th>Omnibus:</th>       <td>27.551</td> <th>  Durbin-Watson:     </th> <td>   1.917</td>\n",
       "</tr>\n",
       "<tr>\n",
       "  <th>Prob(Omnibus):</th> <td> 0.000</td> <th>  Jarque-Bera (JB):  </th> <td>  41.220</td>\n",
       "</tr>\n",
       "<tr>\n",
       "  <th>Skew:</th>          <td>-0.791</td> <th>  Prob(JB):          </th> <td>1.12e-09</td>\n",
       "</tr>\n",
       "<tr>\n",
       "  <th>Kurtosis:</th>      <td> 4.563</td> <th>  Cond. No.          </th> <td>    54.1</td>\n",
       "</tr>\n",
       "</table><br/><br/>Notes:<br/>[1] Standard Errors assume that the covariance matrix of the errors is correctly specified."
      ],
      "text/plain": [
       "<class 'statsmodels.iolib.summary.Summary'>\n",
       "\"\"\"\n",
       "                            WLS Regression Results                            \n",
       "==============================================================================\n",
       "Dep. Variable:                  Sales   R-squared:                       0.371\n",
       "Model:                            WLS   Adj. R-squared:                  0.368\n",
       "Method:                 Least Squares   F-statistic:                     116.9\n",
       "Date:                Wed, 23 Mar 2022   Prob (F-statistic):           1.04e-21\n",
       "Time:                        08:08:51   Log-Likelihood:                -608.00\n",
       "No. Observations:                 200   AIC:                             1220.\n",
       "Df Residuals:                     198   BIC:                             1227.\n",
       "Df Model:                           1                                         \n",
       "Covariance Type:            nonrobust                                         \n",
       "==============================================================================\n",
       "                 coef    std err          t      P>|t|      [0.025      0.975]\n",
       "------------------------------------------------------------------------------\n",
       "Intercept      9.2221      0.554     16.635      0.000       8.129      10.315\n",
       "Radio          0.2131      0.020     10.812      0.000       0.174       0.252\n",
       "==============================================================================\n",
       "Omnibus:                       27.551   Durbin-Watson:                   1.917\n",
       "Prob(Omnibus):                  0.000   Jarque-Bera (JB):               41.220\n",
       "Skew:                          -0.791   Prob(JB):                     1.12e-09\n",
       "Kurtosis:                       4.563   Cond. No.                         54.1\n",
       "==============================================================================\n",
       "\n",
       "Notes:\n",
       "[1] Standard Errors assume that the covariance matrix of the errors is correctly specified.\n",
       "\"\"\""
      ]
     },
     "execution_count": 11,
     "metadata": {},
     "output_type": "execute_result"
    }
   ],
   "source": [
    "model2=smf.wls(formula='Sales~Radio',data=advert, weights=1.0 / (w ** 2)).fit()\n",
    "model2.summary()"
   ]
  },
  {
   "cell_type": "code",
   "execution_count": 12,
   "metadata": {},
   "outputs": [
    {
     "data": {
      "text/plain": [
       "0      17.278472\n",
       "1      17.598171\n",
       "2      19.004846\n",
       "3      18.024436\n",
       "4      11.523893\n",
       "         ...    \n",
       "195    10.010651\n",
       "196    10.266411\n",
       "197    11.204194\n",
       "198    18.173629\n",
       "199    11.055001\n",
       "Length: 200, dtype: float64"
      ]
     },
     "execution_count": 12,
     "metadata": {},
     "output_type": "execute_result"
    }
   ],
   "source": [
    "sales_pred2=model2.predict(pd.DataFrame(advert['Radio']))\n",
    "sales_pred2"
   ]
  },
  {
   "cell_type": "code",
   "execution_count": 13,
   "metadata": {},
   "outputs": [
    {
     "data": {
      "text/plain": [
       "(4.259358830619907, 1.8209561815979103, 0.30375174402709265)"
      ]
     },
     "execution_count": 13,
     "metadata": {},
     "output_type": "execute_result"
    }
   ],
   "source": [
    "# Hitung RMSE dan RSE untuk model 2 \n",
    "advert['sales_pred2']=sales_pred2\n",
    "\n",
    "# RMSE\n",
    "advert['RSEd2']=(advert['Sales']-advert['sales_pred2'])**2\n",
    "RSEd=advert.sum()['RSEd2']\n",
    "RMSE=np.sqrt(RSEd/200)\n",
    "#RSE=np.sqrt(RSEd/198) # # Df Residuals (n-p-1): 200-1-1 = 198 \n",
    "# [1/(n-p-1)]:n=jumlah titik data;p=jumlah variabel prediktor \n",
    "\n",
    "# RSE\n",
    "sales_pred_mean=np.mean(advert['sales_pred2'])\n",
    "advert['RSEp2']=(sales_pred_mean-advert['sales_pred2'])**2\n",
    "RSEp=advert.sum()['RSEp2']\n",
    "RSE=RSEd/RSEp\n",
    "\n",
    "sales_mean = np.mean(advert['Sales'])\n",
    "error=RMSE/sales_mean\n",
    "# print nilai RSE,sales_mean,error\n",
    "RMSE,RSE,error"
   ]
  },
  {
   "cell_type": "code",
   "execution_count": 14,
   "metadata": {},
   "outputs": [
    {
     "data": {
      "text/plain": [
       "Text(0.5, 1.0, 'Predicted Sales vs Radio Advertising Costs - WLS')"
      ]
     },
     "execution_count": 14,
     "metadata": {},
     "output_type": "execute_result"
    },
    {
     "data": {
      "image/png": "[encoded data removed]",
      "text/plain": [
       "<Figure size 432x288 with 1 Axes>"
      ]
     },
     "metadata": {
      "needs_background": "light"
     },
     "output_type": "display_data"
    }
   ],
   "source": [
    "# Plot the Sales predicted vs TV Advertising costs\n",
    "advert.plot(kind='scatter', x='Radio', y='Sales')\n",
    "plt.plot(pd.DataFrame(advert['Radio']),sales_pred2,c='red',linewidth=2)\n",
    "plt.title('Predicted Sales vs Radio Advertising Costs - WLS')"
   ]
  },
  {
   "cell_type": "markdown",
   "metadata": {},
   "source": [
    "### Sales dan Newspaper"
   ]
  },
  {
   "cell_type": "code",
   "execution_count": 15,
   "metadata": {},
   "outputs": [
    {
     "data": {
      "text/plain": [
       "0      69.2\n",
       "1      45.1\n",
       "2      69.3\n",
       "3      58.5\n",
       "4      58.4\n",
       "       ... \n",
       "195    13.8\n",
       "196     8.1\n",
       "197     6.4\n",
       "198    66.2\n",
       "199     8.7\n",
       "Name: Newspaper, Length: 200, dtype: float64"
      ]
     },
     "execution_count": 15,
     "metadata": {},
     "output_type": "execute_result"
    }
   ],
   "source": [
    "advert['Newspaper']"
   ]
  },
  {
   "cell_type": "code",
   "execution_count": 16,
   "metadata": {},
   "outputs": [],
   "source": [
    "nsample = len(advert.index)\n",
    "w = np.ones(nsample)\n",
    "w[nsample * 6 // 10 :] = 3"
   ]
  },
  {
   "cell_type": "code",
   "execution_count": 17,
   "metadata": {},
   "outputs": [
    {
     "data": {
      "text/html": [
       "<table class=\"simpletable\">\n",
       "<caption>WLS Regression Results</caption>\n",
       "<tr>\n",
       "  <th>Dep. Variable:</th>          <td>Sales</td>      <th>  R-squared:         </th> <td>   0.035</td>\n",
       "</tr>\n",
       "<tr>\n",
       "  <th>Model:</th>                   <td>WLS</td>       <th>  Adj. R-squared:    </th> <td>   0.030</td>\n",
       "</tr>\n",
       "<tr>\n",
       "  <th>Method:</th>             <td>Least Squares</td>  <th>  F-statistic:       </th> <td>   7.203</td>\n",
       "</tr>\n",
       "<tr>\n",
       "  <th>Date:</th>             <td>Wed, 23 Mar 2022</td> <th>  Prob (F-statistic):</th>  <td>0.00789</td>\n",
       "</tr>\n",
       "<tr>\n",
       "  <th>Time:</th>                 <td>08:09:53</td>     <th>  Log-Likelihood:    </th> <td> -650.82</td>\n",
       "</tr>\n",
       "<tr>\n",
       "  <th>No. Observations:</th>      <td>   200</td>      <th>  AIC:               </th> <td>   1306.</td>\n",
       "</tr>\n",
       "<tr>\n",
       "  <th>Df Residuals:</th>          <td>   198</td>      <th>  BIC:               </th> <td>   1312.</td>\n",
       "</tr>\n",
       "<tr>\n",
       "  <th>Df Model:</th>              <td>     1</td>      <th>                     </th>     <td> </td>   \n",
       "</tr>\n",
       "<tr>\n",
       "  <th>Covariance Type:</th>      <td>nonrobust</td>    <th>                     </th>     <td> </td>   \n",
       "</tr>\n",
       "</table>\n",
       "<table class=\"simpletable\">\n",
       "<tr>\n",
       "      <td></td>         <th>coef</th>     <th>std err</th>      <th>t</th>      <th>P>|t|</th>  <th>[0.025</th>    <th>0.975]</th>  \n",
       "</tr>\n",
       "<tr>\n",
       "  <th>Intercept</th> <td>   12.9424</td> <td>    0.632</td> <td>   20.494</td> <td> 0.000</td> <td>   11.697</td> <td>   14.188</td>\n",
       "</tr>\n",
       "<tr>\n",
       "  <th>Newspaper</th> <td>    0.0430</td> <td>    0.016</td> <td>    2.684</td> <td> 0.008</td> <td>    0.011</td> <td>    0.075</td>\n",
       "</tr>\n",
       "</table>\n",
       "<table class=\"simpletable\">\n",
       "<tr>\n",
       "  <th>Omnibus:</th>       <td> 5.522</td> <th>  Durbin-Watson:     </th> <td>   1.969</td>\n",
       "</tr>\n",
       "<tr>\n",
       "  <th>Prob(Omnibus):</th> <td> 0.063</td> <th>  Jarque-Bera (JB):  </th> <td>   5.138</td>\n",
       "</tr>\n",
       "<tr>\n",
       "  <th>Skew:</th>          <td> 0.356</td> <th>  Prob(JB):          </th> <td>  0.0766</td>\n",
       "</tr>\n",
       "<tr>\n",
       "  <th>Kurtosis:</th>      <td> 3.333</td> <th>  Cond. No.          </th> <td>    69.6</td>\n",
       "</tr>\n",
       "</table><br/><br/>Notes:<br/>[1] Standard Errors assume that the covariance matrix of the errors is correctly specified."
      ],
      "text/plain": [
       "<class 'statsmodels.iolib.summary.Summary'>\n",
       "\"\"\"\n",
       "                            WLS Regression Results                            \n",
       "==============================================================================\n",
       "Dep. Variable:                  Sales   R-squared:                       0.035\n",
       "Model:                            WLS   Adj. R-squared:                  0.030\n",
       "Method:                 Least Squares   F-statistic:                     7.203\n",
       "Date:                Wed, 23 Mar 2022   Prob (F-statistic):            0.00789\n",
       "Time:                        08:09:53   Log-Likelihood:                -650.82\n",
       "No. Observations:                 200   AIC:                             1306.\n",
       "Df Residuals:                     198   BIC:                             1312.\n",
       "Df Model:                           1                                         \n",
       "Covariance Type:            nonrobust                                         \n",
       "==============================================================================\n",
       "                 coef    std err          t      P>|t|      [0.025      0.975]\n",
       "------------------------------------------------------------------------------\n",
       "Intercept     12.9424      0.632     20.494      0.000      11.697      14.188\n",
       "Newspaper      0.0430      0.016      2.684      0.008       0.011       0.075\n",
       "==============================================================================\n",
       "Omnibus:                        5.522   Durbin-Watson:                   1.969\n",
       "Prob(Omnibus):                  0.063   Jarque-Bera (JB):                5.138\n",
       "Skew:                           0.356   Prob(JB):                       0.0766\n",
       "Kurtosis:                       3.333   Cond. No.                         69.6\n",
       "==============================================================================\n",
       "\n",
       "Notes:\n",
       "[1] Standard Errors assume that the covariance matrix of the errors is correctly specified.\n",
       "\"\"\""
      ]
     },
     "execution_count": 17,
     "metadata": {},
     "output_type": "execute_result"
    }
   ],
   "source": [
    "model3=smf.wls(formula='Sales~Newspaper',data=advert, weights=1.0 / (w ** 2)).fit()\n",
    "model3.summary()"
   ]
  },
  {
   "cell_type": "code",
   "execution_count": 18,
   "metadata": {},
   "outputs": [
    {
     "data": {
      "text/plain": [
       "0      15.920704\n",
       "1      14.883469\n",
       "2      15.925008\n",
       "3      15.460189\n",
       "4      15.455885\n",
       "         ...    \n",
       "195    13.536356\n",
       "196    13.291035\n",
       "197    13.217869\n",
       "198    15.791588\n",
       "199    13.316858\n",
       "Length: 200, dtype: float64"
      ]
     },
     "execution_count": 18,
     "metadata": {},
     "output_type": "execute_result"
    }
   ],
   "source": [
    "sales_pred3=model3.predict(pd.DataFrame(advert['Newspaper']))\n",
    "sales_pred3"
   ]
  },
  {
   "cell_type": "code",
   "execution_count": 19,
   "metadata": {},
   "outputs": [
    {
     "data": {
      "text/plain": [
       "(5.078711812781711, 29.505540317838868, 0.3621830495832919)"
      ]
     },
     "execution_count": 19,
     "metadata": {},
     "output_type": "execute_result"
    }
   ],
   "source": [
    "# Hitung RMSE dan RSE untuk model 3 \n",
    "advert['sales_pred3']=sales_pred3\n",
    "\n",
    "# RMSE\n",
    "advert['RSEd3']=(advert['Sales']-advert['sales_pred3'])**2\n",
    "RSEd=advert.sum()['RSEd3']\n",
    "RMSE=np.sqrt(RSEd/200)\n",
    "#RSE=np.sqrt(RSEd/198) # # Df Residuals (n-p-1): 200-1-1 = 198 \n",
    "# [1/(n-p-1)]:n=jumlah titik data;p=jumlah variabel prediktor \n",
    "\n",
    "# RSE\n",
    "sales_pred_mean=np.mean(advert['sales_pred3'])\n",
    "advert['RSEp3']=(sales_pred_mean-advert['sales_pred3'])**2\n",
    "RSEp=advert.sum()['RSEp3']\n",
    "RSE=RSEd/RSEp\n",
    "\n",
    "sales_mean = np.mean(advert['Sales'])\n",
    "error=RMSE/sales_mean\n",
    "# print nilai RSE,sales_mean,error\n",
    "RMSE,RSE,error"
   ]
  },
  {
   "cell_type": "code",
   "execution_count": 20,
   "metadata": {},
   "outputs": [
    {
     "data": {
      "text/plain": [
       "Text(0.5, 1.0, 'Predicted Sales vs Newspaper Advertising Costs - WLS')"
      ]
     },
     "execution_count": 20,
     "metadata": {},
     "output_type": "execute_result"
    },
    {
     "data": {
      "image/png": "[encoded data removed]",
      "text/plain": [
       "<Figure size 432x288 with 1 Axes>"
      ]
     },
     "metadata": {
      "needs_background": "light"
     },
     "output_type": "display_data"
    }
   ],
   "source": [
    "# Plot the Sales predicted vs TV Advertising costs\n",
    "advert.plot(kind='scatter', x='Newspaper', y='Sales')\n",
    "plt.plot(pd.DataFrame(advert['Newspaper']),sales_pred3,c='red',linewidth=2)\n",
    "plt.title('Predicted Sales vs Newspaper Advertising Costs - WLS')"
   ]
  },
  {
   "cell_type": "code",
   "execution_count": null,
   "metadata": {},
   "outputs": [],
   "source": []
  }
 ],
 "metadata": {
  "colab": {
   "name": "Simple-linear-registration.ipynb",
   "provenance": []
  },
  "kernelspec": {
   "display_name": "Python 3",
   "language": "python",
   "name": "python3"
  },
  "language_info": {
   "codemirror_mode": {
    "name": "ipython",
    "version": 3
   },
   "file_extension": ".py",
   "mimetype": "text/x-python",
   "name": "python",
   "nbconvert_exporter": "python",
   "pygments_lexer": "ipython3",
   "version": "3.8.10"
  },
  "toc-autonumbering": true,
  "toc-showmarkdowntxt": false
 },
 "nbformat": 4,
 "nbformat_minor": 4
}
